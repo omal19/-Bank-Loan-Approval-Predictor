{
 "cells": [
  {
   "cell_type": "code",
   "execution_count": 1,
   "metadata": {},
   "outputs": [],
   "source": [
    "import pandas as pd\n",
    "import numpy as np"
   ]
  },
  {
   "cell_type": "code",
   "execution_count": 2,
   "metadata": {},
   "outputs": [],
   "source": [
    "import seaborn as sns\n",
    "import matplotlib.pyplot as plt\n",
    "%matplotlib inline"
   ]
  },
  {
   "cell_type": "code",
   "execution_count": 3,
   "metadata": {},
   "outputs": [],
   "source": [
    "df=pd.read_csv('processed_DATA.csv')"
   ]
  },
  {
   "cell_type": "code",
   "execution_count": 4,
   "metadata": {},
   "outputs": [
    {
     "data": {
      "text/html": [
       "<div>\n",
       "<style scoped>\n",
       "    .dataframe tbody tr th:only-of-type {\n",
       "        vertical-align: middle;\n",
       "    }\n",
       "\n",
       "    .dataframe tbody tr th {\n",
       "        vertical-align: top;\n",
       "    }\n",
       "\n",
       "    .dataframe thead th {\n",
       "        text-align: right;\n",
       "    }\n",
       "</style>\n",
       "<table border=\"1\" class=\"dataframe\">\n",
       "  <thead>\n",
       "    <tr style=\"text-align: right;\">\n",
       "      <th></th>\n",
       "      <th>Unnamed: 0</th>\n",
       "      <th>member_id</th>\n",
       "      <th>loan_amnt</th>\n",
       "      <th>term</th>\n",
       "      <th>int_rate</th>\n",
       "      <th>emp_length</th>\n",
       "      <th>annual_inc</th>\n",
       "      <th>dti</th>\n",
       "      <th>delinq_2yrs</th>\n",
       "      <th>inq_last_6mths</th>\n",
       "      <th>...</th>\n",
       "      <th>purpose moving</th>\n",
       "      <th>purpose other</th>\n",
       "      <th>purpose renewable_energy</th>\n",
       "      <th>purpose small_business</th>\n",
       "      <th>purpose vacation</th>\n",
       "      <th>purpose wedding</th>\n",
       "      <th>initial_list_status w</th>\n",
       "      <th>new col 1</th>\n",
       "      <th>new col 2</th>\n",
       "      <th>new col 3</th>\n",
       "    </tr>\n",
       "  </thead>\n",
       "  <tbody>\n",
       "    <tr>\n",
       "      <th>0</th>\n",
       "      <td>0</td>\n",
       "      <td>58189336</td>\n",
       "      <td>14350</td>\n",
       "      <td>36</td>\n",
       "      <td>19.19</td>\n",
       "      <td>9</td>\n",
       "      <td>2.173275</td>\n",
       "      <td>33.88</td>\n",
       "      <td>0.0</td>\n",
       "      <td>1.000000</td>\n",
       "      <td>...</td>\n",
       "      <td>0</td>\n",
       "      <td>0</td>\n",
       "      <td>0</td>\n",
       "      <td>0</td>\n",
       "      <td>0</td>\n",
       "      <td>0</td>\n",
       "      <td>0</td>\n",
       "      <td>-8.795270</td>\n",
       "      <td>10.548798</td>\n",
       "      <td>524.763280</td>\n",
       "    </tr>\n",
       "    <tr>\n",
       "      <th>1</th>\n",
       "      <td>1</td>\n",
       "      <td>70011223</td>\n",
       "      <td>4800</td>\n",
       "      <td>36</td>\n",
       "      <td>10.99</td>\n",
       "      <td>0</td>\n",
       "      <td>2.229502</td>\n",
       "      <td>3.64</td>\n",
       "      <td>0.0</td>\n",
       "      <td>1.000000</td>\n",
       "      <td>...</td>\n",
       "      <td>0</td>\n",
       "      <td>0</td>\n",
       "      <td>0</td>\n",
       "      <td>0</td>\n",
       "      <td>0</td>\n",
       "      <td>0</td>\n",
       "      <td>1</td>\n",
       "      <td>-7.674593</td>\n",
       "      <td>4.378650</td>\n",
       "      <td>229.678036</td>\n",
       "    </tr>\n",
       "    <tr>\n",
       "      <th>2</th>\n",
       "      <td>2</td>\n",
       "      <td>70255675</td>\n",
       "      <td>10000</td>\n",
       "      <td>36</td>\n",
       "      <td>7.26</td>\n",
       "      <td>2</td>\n",
       "      <td>2.204565</td>\n",
       "      <td>18.42</td>\n",
       "      <td>0.0</td>\n",
       "      <td>0.000000</td>\n",
       "      <td>...</td>\n",
       "      <td>0</td>\n",
       "      <td>0</td>\n",
       "      <td>0</td>\n",
       "      <td>0</td>\n",
       "      <td>0</td>\n",
       "      <td>0</td>\n",
       "      <td>1</td>\n",
       "      <td>-8.419810</td>\n",
       "      <td>3.836536</td>\n",
       "      <td>269.443872</td>\n",
       "    </tr>\n",
       "    <tr>\n",
       "      <th>3</th>\n",
       "      <td>3</td>\n",
       "      <td>1893936</td>\n",
       "      <td>15000</td>\n",
       "      <td>36</td>\n",
       "      <td>19.72</td>\n",
       "      <td>10</td>\n",
       "      <td>2.261209</td>\n",
       "      <td>14.97</td>\n",
       "      <td>0.0</td>\n",
       "      <td>1.259921</td>\n",
       "      <td>...</td>\n",
       "      <td>0</td>\n",
       "      <td>0</td>\n",
       "      <td>0</td>\n",
       "      <td>0</td>\n",
       "      <td>0</td>\n",
       "      <td>0</td>\n",
       "      <td>0</td>\n",
       "      <td>-8.799906</td>\n",
       "      <td>16.937045</td>\n",
       "      <td>543.874986</td>\n",
       "    </tr>\n",
       "    <tr>\n",
       "      <th>4</th>\n",
       "      <td>4</td>\n",
       "      <td>7652106</td>\n",
       "      <td>16000</td>\n",
       "      <td>36</td>\n",
       "      <td>10.64</td>\n",
       "      <td>10</td>\n",
       "      <td>2.214437</td>\n",
       "      <td>20.16</td>\n",
       "      <td>0.0</td>\n",
       "      <td>0.000000</td>\n",
       "      <td>...</td>\n",
       "      <td>0</td>\n",
       "      <td>0</td>\n",
       "      <td>0</td>\n",
       "      <td>0</td>\n",
       "      <td>0</td>\n",
       "      <td>0</td>\n",
       "      <td>1</td>\n",
       "      <td>-8.885346</td>\n",
       "      <td>13.193190</td>\n",
       "      <td>412.601503</td>\n",
       "    </tr>\n",
       "  </tbody>\n",
       "</table>\n",
       "<p>5 rows × 88 columns</p>\n",
       "</div>"
      ],
      "text/plain": [
       "   Unnamed: 0  member_id  loan_amnt  term  int_rate  emp_length  annual_inc  \\\n",
       "0           0   58189336      14350    36     19.19           9    2.173275   \n",
       "1           1   70011223       4800    36     10.99           0    2.229502   \n",
       "2           2   70255675      10000    36      7.26           2    2.204565   \n",
       "3           3    1893936      15000    36     19.72          10    2.261209   \n",
       "4           4    7652106      16000    36     10.64          10    2.214437   \n",
       "\n",
       "     dti  delinq_2yrs  inq_last_6mths  ...  purpose moving  purpose other  \\\n",
       "0  33.88          0.0        1.000000  ...               0              0   \n",
       "1   3.64          0.0        1.000000  ...               0              0   \n",
       "2  18.42          0.0        0.000000  ...               0              0   \n",
       "3  14.97          0.0        1.259921  ...               0              0   \n",
       "4  20.16          0.0        0.000000  ...               0              0   \n",
       "\n",
       "   purpose renewable_energy  purpose small_business  purpose vacation  \\\n",
       "0                         0                       0                 0   \n",
       "1                         0                       0                 0   \n",
       "2                         0                       0                 0   \n",
       "3                         0                       0                 0   \n",
       "4                         0                       0                 0   \n",
       "\n",
       "   purpose wedding  initial_list_status w  new col 1  new col 2   new col 3  \n",
       "0                0                      0  -8.795270  10.548798  524.763280  \n",
       "1                0                      1  -7.674593   4.378650  229.678036  \n",
       "2                0                      1  -8.419810   3.836536  269.443872  \n",
       "3                0                      0  -8.799906  16.937045  543.874986  \n",
       "4                0                      1  -8.885346  13.193190  412.601503  \n",
       "\n",
       "[5 rows x 88 columns]"
      ]
     },
     "execution_count": 4,
     "metadata": {},
     "output_type": "execute_result"
    }
   ],
   "source": [
    "df.head()"
   ]
  },
  {
   "cell_type": "code",
   "execution_count": 5,
   "metadata": {},
   "outputs": [],
   "source": [
    "df.drop([\"Unnamed: 0\",\"member_id\"],axis=1,inplace=True)"
   ]
  },
  {
   "cell_type": "code",
   "execution_count": 6,
   "metadata": {},
   "outputs": [
    {
     "data": {
      "text/html": [
       "<div>\n",
       "<style scoped>\n",
       "    .dataframe tbody tr th:only-of-type {\n",
       "        vertical-align: middle;\n",
       "    }\n",
       "\n",
       "    .dataframe tbody tr th {\n",
       "        vertical-align: top;\n",
       "    }\n",
       "\n",
       "    .dataframe thead th {\n",
       "        text-align: right;\n",
       "    }\n",
       "</style>\n",
       "<table border=\"1\" class=\"dataframe\">\n",
       "  <thead>\n",
       "    <tr style=\"text-align: right;\">\n",
       "      <th></th>\n",
       "      <th>loan_amnt</th>\n",
       "      <th>term</th>\n",
       "      <th>int_rate</th>\n",
       "      <th>emp_length</th>\n",
       "      <th>annual_inc</th>\n",
       "      <th>dti</th>\n",
       "      <th>delinq_2yrs</th>\n",
       "      <th>inq_last_6mths</th>\n",
       "      <th>open_acc</th>\n",
       "      <th>pub_rec</th>\n",
       "      <th>...</th>\n",
       "      <th>purpose moving</th>\n",
       "      <th>purpose other</th>\n",
       "      <th>purpose renewable_energy</th>\n",
       "      <th>purpose small_business</th>\n",
       "      <th>purpose vacation</th>\n",
       "      <th>purpose wedding</th>\n",
       "      <th>initial_list_status w</th>\n",
       "      <th>new col 1</th>\n",
       "      <th>new col 2</th>\n",
       "      <th>new col 3</th>\n",
       "    </tr>\n",
       "  </thead>\n",
       "  <tbody>\n",
       "    <tr>\n",
       "      <th>0</th>\n",
       "      <td>14350</td>\n",
       "      <td>36</td>\n",
       "      <td>19.19</td>\n",
       "      <td>9</td>\n",
       "      <td>2.173275</td>\n",
       "      <td>33.88</td>\n",
       "      <td>0.0</td>\n",
       "      <td>1.000000</td>\n",
       "      <td>14.0</td>\n",
       "      <td>1.0</td>\n",
       "      <td>...</td>\n",
       "      <td>0</td>\n",
       "      <td>0</td>\n",
       "      <td>0</td>\n",
       "      <td>0</td>\n",
       "      <td>0</td>\n",
       "      <td>0</td>\n",
       "      <td>0</td>\n",
       "      <td>-8.795270</td>\n",
       "      <td>10.548798</td>\n",
       "      <td>524.763280</td>\n",
       "    </tr>\n",
       "    <tr>\n",
       "      <th>1</th>\n",
       "      <td>4800</td>\n",
       "      <td>36</td>\n",
       "      <td>10.99</td>\n",
       "      <td>0</td>\n",
       "      <td>2.229502</td>\n",
       "      <td>3.64</td>\n",
       "      <td>0.0</td>\n",
       "      <td>1.000000</td>\n",
       "      <td>6.0</td>\n",
       "      <td>0.0</td>\n",
       "      <td>...</td>\n",
       "      <td>0</td>\n",
       "      <td>0</td>\n",
       "      <td>0</td>\n",
       "      <td>0</td>\n",
       "      <td>0</td>\n",
       "      <td>0</td>\n",
       "      <td>1</td>\n",
       "      <td>-7.674593</td>\n",
       "      <td>4.378650</td>\n",
       "      <td>229.678036</td>\n",
       "    </tr>\n",
       "    <tr>\n",
       "      <th>2</th>\n",
       "      <td>10000</td>\n",
       "      <td>36</td>\n",
       "      <td>7.26</td>\n",
       "      <td>2</td>\n",
       "      <td>2.204565</td>\n",
       "      <td>18.42</td>\n",
       "      <td>0.0</td>\n",
       "      <td>0.000000</td>\n",
       "      <td>5.0</td>\n",
       "      <td>0.0</td>\n",
       "      <td>...</td>\n",
       "      <td>0</td>\n",
       "      <td>0</td>\n",
       "      <td>0</td>\n",
       "      <td>0</td>\n",
       "      <td>0</td>\n",
       "      <td>0</td>\n",
       "      <td>1</td>\n",
       "      <td>-8.419810</td>\n",
       "      <td>3.836536</td>\n",
       "      <td>269.443872</td>\n",
       "    </tr>\n",
       "    <tr>\n",
       "      <th>3</th>\n",
       "      <td>15000</td>\n",
       "      <td>36</td>\n",
       "      <td>19.72</td>\n",
       "      <td>10</td>\n",
       "      <td>2.261209</td>\n",
       "      <td>14.97</td>\n",
       "      <td>0.0</td>\n",
       "      <td>1.259921</td>\n",
       "      <td>10.0</td>\n",
       "      <td>0.0</td>\n",
       "      <td>...</td>\n",
       "      <td>0</td>\n",
       "      <td>0</td>\n",
       "      <td>0</td>\n",
       "      <td>0</td>\n",
       "      <td>0</td>\n",
       "      <td>0</td>\n",
       "      <td>0</td>\n",
       "      <td>-8.799906</td>\n",
       "      <td>16.937045</td>\n",
       "      <td>543.874986</td>\n",
       "    </tr>\n",
       "    <tr>\n",
       "      <th>4</th>\n",
       "      <td>16000</td>\n",
       "      <td>36</td>\n",
       "      <td>10.64</td>\n",
       "      <td>10</td>\n",
       "      <td>2.214437</td>\n",
       "      <td>20.16</td>\n",
       "      <td>0.0</td>\n",
       "      <td>0.000000</td>\n",
       "      <td>11.0</td>\n",
       "      <td>0.0</td>\n",
       "      <td>...</td>\n",
       "      <td>0</td>\n",
       "      <td>0</td>\n",
       "      <td>0</td>\n",
       "      <td>0</td>\n",
       "      <td>0</td>\n",
       "      <td>0</td>\n",
       "      <td>1</td>\n",
       "      <td>-8.885346</td>\n",
       "      <td>13.193190</td>\n",
       "      <td>412.601503</td>\n",
       "    </tr>\n",
       "  </tbody>\n",
       "</table>\n",
       "<p>5 rows × 86 columns</p>\n",
       "</div>"
      ],
      "text/plain": [
       "   loan_amnt  term  int_rate  emp_length  annual_inc    dti  delinq_2yrs  \\\n",
       "0      14350    36     19.19           9    2.173275  33.88          0.0   \n",
       "1       4800    36     10.99           0    2.229502   3.64          0.0   \n",
       "2      10000    36      7.26           2    2.204565  18.42          0.0   \n",
       "3      15000    36     19.72          10    2.261209  14.97          0.0   \n",
       "4      16000    36     10.64          10    2.214437  20.16          0.0   \n",
       "\n",
       "   inq_last_6mths  open_acc  pub_rec  ...  purpose moving  purpose other  \\\n",
       "0        1.000000      14.0      1.0  ...               0              0   \n",
       "1        1.000000       6.0      0.0  ...               0              0   \n",
       "2        0.000000       5.0      0.0  ...               0              0   \n",
       "3        1.259921      10.0      0.0  ...               0              0   \n",
       "4        0.000000      11.0      0.0  ...               0              0   \n",
       "\n",
       "   purpose renewable_energy  purpose small_business  purpose vacation  \\\n",
       "0                         0                       0                 0   \n",
       "1                         0                       0                 0   \n",
       "2                         0                       0                 0   \n",
       "3                         0                       0                 0   \n",
       "4                         0                       0                 0   \n",
       "\n",
       "   purpose wedding  initial_list_status w  new col 1  new col 2   new col 3  \n",
       "0                0                      0  -8.795270  10.548798  524.763280  \n",
       "1                0                      1  -7.674593   4.378650  229.678036  \n",
       "2                0                      1  -8.419810   3.836536  269.443872  \n",
       "3                0                      0  -8.799906  16.937045  543.874986  \n",
       "4                0                      1  -8.885346  13.193190  412.601503  \n",
       "\n",
       "[5 rows x 86 columns]"
      ]
     },
     "execution_count": 6,
     "metadata": {},
     "output_type": "execute_result"
    }
   ],
   "source": [
    "df.head()"
   ]
  },
  {
   "cell_type": "code",
   "execution_count": 7,
   "metadata": {},
   "outputs": [],
   "source": [
    "y=df[\"loan_status\"]"
   ]
  },
  {
   "cell_type": "code",
   "execution_count": 8,
   "metadata": {},
   "outputs": [],
   "source": [
    "df.drop(\"loan_status\",axis=1,inplace=True)"
   ]
  },
  {
   "cell_type": "code",
   "execution_count": 9,
   "metadata": {},
   "outputs": [],
   "source": [
    "from sklearn.preprocessing import StandardScaler\n",
    "from sklearn.model_selection import train_test_split"
   ]
  },
  {
   "cell_type": "code",
   "execution_count": 10,
   "metadata": {},
   "outputs": [],
   "source": [
    "scaler=StandardScaler()"
   ]
  },
  {
   "cell_type": "code",
   "execution_count": 11,
   "metadata": {},
   "outputs": [
    {
     "data": {
      "text/plain": [
       "StandardScaler(copy=True, with_mean=True, with_std=True)"
      ]
     },
     "execution_count": 11,
     "metadata": {},
     "output_type": "execute_result"
    }
   ],
   "source": [
    "scaler.fit(df)"
   ]
  },
  {
   "cell_type": "code",
   "execution_count": 12,
   "metadata": {},
   "outputs": [],
   "source": [
    "scaled=scaler.transform(df)"
   ]
  },
  {
   "cell_type": "code",
   "execution_count": 13,
   "metadata": {},
   "outputs": [
    {
     "data": {
      "text/plain": [
       "array([[-0.04836375, -0.65439429,  1.35786427, ..., -0.28451847,\n",
       "         0.00767898,  0.6695925 ],\n",
       "       [-1.18064133, -0.65439429, -0.51444912, ...,  1.41640047,\n",
       "        -1.43849105, -1.21246349],\n",
       "       [-0.56411322, -0.65439429, -1.36612338, ...,  0.2853391 ,\n",
       "        -1.56555272, -0.95883667],\n",
       "       ...,\n",
       "       [ 0.47034981,  1.52813068,  1.72547702, ..., -0.66941479,\n",
       "        -0.43934481,  1.30305653],\n",
       "       [ 0.74008086,  1.52813068,  0.69570466, ..., -0.83579322,\n",
       "         1.43882634,  1.05304677],\n",
       "       [-0.56411322, -0.65439429, -1.56477126, ...,  0.29300705,\n",
       "        -0.64566413, -1.06509032]])"
      ]
     },
     "execution_count": 13,
     "metadata": {},
     "output_type": "execute_result"
    }
   ],
   "source": [
    "scaled"
   ]
  },
  {
   "cell_type": "code",
   "execution_count": 14,
   "metadata": {},
   "outputs": [],
   "source": [
    "df=pd.DataFrame(scaled,columns=df.columns)"
   ]
  },
  {
   "cell_type": "code",
   "execution_count": 15,
   "metadata": {},
   "outputs": [
    {
     "data": {
      "text/html": [
       "<div>\n",
       "<style scoped>\n",
       "    .dataframe tbody tr th:only-of-type {\n",
       "        vertical-align: middle;\n",
       "    }\n",
       "\n",
       "    .dataframe tbody tr th {\n",
       "        vertical-align: top;\n",
       "    }\n",
       "\n",
       "    .dataframe thead th {\n",
       "        text-align: right;\n",
       "    }\n",
       "</style>\n",
       "<table border=\"1\" class=\"dataframe\">\n",
       "  <thead>\n",
       "    <tr style=\"text-align: right;\">\n",
       "      <th></th>\n",
       "      <th>loan_amnt</th>\n",
       "      <th>term</th>\n",
       "      <th>int_rate</th>\n",
       "      <th>emp_length</th>\n",
       "      <th>annual_inc</th>\n",
       "      <th>dti</th>\n",
       "      <th>delinq_2yrs</th>\n",
       "      <th>inq_last_6mths</th>\n",
       "      <th>open_acc</th>\n",
       "      <th>pub_rec</th>\n",
       "      <th>...</th>\n",
       "      <th>purpose moving</th>\n",
       "      <th>purpose other</th>\n",
       "      <th>purpose renewable_energy</th>\n",
       "      <th>purpose small_business</th>\n",
       "      <th>purpose vacation</th>\n",
       "      <th>purpose wedding</th>\n",
       "      <th>initial_list_status w</th>\n",
       "      <th>new col 1</th>\n",
       "      <th>new col 2</th>\n",
       "      <th>new col 3</th>\n",
       "    </tr>\n",
       "  </thead>\n",
       "  <tbody>\n",
       "    <tr>\n",
       "      <th>0</th>\n",
       "      <td>-0.048364</td>\n",
       "      <td>-0.654394</td>\n",
       "      <td>1.357864</td>\n",
       "      <td>0.860018</td>\n",
       "      <td>-1.561246</td>\n",
       "      <td>1.896234</td>\n",
       "      <td>-0.487717</td>\n",
       "      <td>0.873547</td>\n",
       "      <td>0.468264</td>\n",
       "      <td>2.354345</td>\n",
       "      <td>...</td>\n",
       "      <td>-0.078285</td>\n",
       "      <td>-0.224914</td>\n",
       "      <td>-0.024942</td>\n",
       "      <td>-0.108067</td>\n",
       "      <td>-0.072867</td>\n",
       "      <td>-0.051365</td>\n",
       "      <td>-0.971131</td>\n",
       "      <td>-0.284518</td>\n",
       "      <td>0.007679</td>\n",
       "      <td>0.669592</td>\n",
       "    </tr>\n",
       "    <tr>\n",
       "      <th>1</th>\n",
       "      <td>-1.180641</td>\n",
       "      <td>-0.654394</td>\n",
       "      <td>-0.514449</td>\n",
       "      <td>-1.455028</td>\n",
       "      <td>0.029475</td>\n",
       "      <td>-1.746117</td>\n",
       "      <td>-0.487717</td>\n",
       "      <td>0.873547</td>\n",
       "      <td>-1.052517</td>\n",
       "      <td>-0.424747</td>\n",
       "      <td>...</td>\n",
       "      <td>-0.078285</td>\n",
       "      <td>-0.224914</td>\n",
       "      <td>-0.024942</td>\n",
       "      <td>-0.108067</td>\n",
       "      <td>-0.072867</td>\n",
       "      <td>-0.051365</td>\n",
       "      <td>1.029727</td>\n",
       "      <td>1.416400</td>\n",
       "      <td>-1.438491</td>\n",
       "      <td>-1.212463</td>\n",
       "    </tr>\n",
       "    <tr>\n",
       "      <th>2</th>\n",
       "      <td>-0.564113</td>\n",
       "      <td>-0.654394</td>\n",
       "      <td>-1.366123</td>\n",
       "      <td>-0.940573</td>\n",
       "      <td>-0.676034</td>\n",
       "      <td>0.034106</td>\n",
       "      <td>-0.487717</td>\n",
       "      <td>-0.862921</td>\n",
       "      <td>-1.242615</td>\n",
       "      <td>-0.424747</td>\n",
       "      <td>...</td>\n",
       "      <td>-0.078285</td>\n",
       "      <td>-0.224914</td>\n",
       "      <td>-0.024942</td>\n",
       "      <td>-0.108067</td>\n",
       "      <td>-0.072867</td>\n",
       "      <td>-0.051365</td>\n",
       "      <td>1.029727</td>\n",
       "      <td>0.285339</td>\n",
       "      <td>-1.565553</td>\n",
       "      <td>-0.958837</td>\n",
       "    </tr>\n",
       "    <tr>\n",
       "      <th>3</th>\n",
       "      <td>0.028702</td>\n",
       "      <td>-0.654394</td>\n",
       "      <td>1.478880</td>\n",
       "      <td>1.117246</td>\n",
       "      <td>0.926503</td>\n",
       "      <td>-0.381440</td>\n",
       "      <td>-0.487717</td>\n",
       "      <td>1.324892</td>\n",
       "      <td>-0.292127</td>\n",
       "      <td>-0.424747</td>\n",
       "      <td>...</td>\n",
       "      <td>-0.078285</td>\n",
       "      <td>-0.224914</td>\n",
       "      <td>-0.024942</td>\n",
       "      <td>-0.108067</td>\n",
       "      <td>-0.072867</td>\n",
       "      <td>-0.051365</td>\n",
       "      <td>-0.971131</td>\n",
       "      <td>-0.291555</td>\n",
       "      <td>1.504968</td>\n",
       "      <td>0.791487</td>\n",
       "    </tr>\n",
       "    <tr>\n",
       "      <th>4</th>\n",
       "      <td>0.147265</td>\n",
       "      <td>-0.654394</td>\n",
       "      <td>-0.594365</td>\n",
       "      <td>1.117246</td>\n",
       "      <td>-0.396746</td>\n",
       "      <td>0.243686</td>\n",
       "      <td>-0.487717</td>\n",
       "      <td>-0.862921</td>\n",
       "      <td>-0.102029</td>\n",
       "      <td>-0.424747</td>\n",
       "      <td>...</td>\n",
       "      <td>-0.078285</td>\n",
       "      <td>-0.224914</td>\n",
       "      <td>-0.024942</td>\n",
       "      <td>-0.108067</td>\n",
       "      <td>-0.072867</td>\n",
       "      <td>-0.051365</td>\n",
       "      <td>1.029727</td>\n",
       "      <td>-0.421232</td>\n",
       "      <td>0.627476</td>\n",
       "      <td>-0.045776</td>\n",
       "    </tr>\n",
       "  </tbody>\n",
       "</table>\n",
       "<p>5 rows × 85 columns</p>\n",
       "</div>"
      ],
      "text/plain": [
       "   loan_amnt      term  int_rate  emp_length  annual_inc       dti  \\\n",
       "0  -0.048364 -0.654394  1.357864    0.860018   -1.561246  1.896234   \n",
       "1  -1.180641 -0.654394 -0.514449   -1.455028    0.029475 -1.746117   \n",
       "2  -0.564113 -0.654394 -1.366123   -0.940573   -0.676034  0.034106   \n",
       "3   0.028702 -0.654394  1.478880    1.117246    0.926503 -0.381440   \n",
       "4   0.147265 -0.654394 -0.594365    1.117246   -0.396746  0.243686   \n",
       "\n",
       "   delinq_2yrs  inq_last_6mths  open_acc   pub_rec  ...  purpose moving  \\\n",
       "0    -0.487717        0.873547  0.468264  2.354345  ...       -0.078285   \n",
       "1    -0.487717        0.873547 -1.052517 -0.424747  ...       -0.078285   \n",
       "2    -0.487717       -0.862921 -1.242615 -0.424747  ...       -0.078285   \n",
       "3    -0.487717        1.324892 -0.292127 -0.424747  ...       -0.078285   \n",
       "4    -0.487717       -0.862921 -0.102029 -0.424747  ...       -0.078285   \n",
       "\n",
       "   purpose other  purpose renewable_energy  purpose small_business  \\\n",
       "0      -0.224914                 -0.024942               -0.108067   \n",
       "1      -0.224914                 -0.024942               -0.108067   \n",
       "2      -0.224914                 -0.024942               -0.108067   \n",
       "3      -0.224914                 -0.024942               -0.108067   \n",
       "4      -0.224914                 -0.024942               -0.108067   \n",
       "\n",
       "   purpose vacation  purpose wedding  initial_list_status w  new col 1  \\\n",
       "0         -0.072867        -0.051365              -0.971131  -0.284518   \n",
       "1         -0.072867        -0.051365               1.029727   1.416400   \n",
       "2         -0.072867        -0.051365               1.029727   0.285339   \n",
       "3         -0.072867        -0.051365              -0.971131  -0.291555   \n",
       "4         -0.072867        -0.051365               1.029727  -0.421232   \n",
       "\n",
       "   new col 2  new col 3  \n",
       "0   0.007679   0.669592  \n",
       "1  -1.438491  -1.212463  \n",
       "2  -1.565553  -0.958837  \n",
       "3   1.504968   0.791487  \n",
       "4   0.627476  -0.045776  \n",
       "\n",
       "[5 rows x 85 columns]"
      ]
     },
     "execution_count": 15,
     "metadata": {},
     "output_type": "execute_result"
    }
   ],
   "source": [
    "df.head()"
   ]
  },
  {
   "cell_type": "code",
   "execution_count": 16,
   "metadata": {},
   "outputs": [],
   "source": [
    "X_train, X_test, y_train, y_test = train_test_split(df, y, test_size=0.33)"
   ]
  },
  {
   "cell_type": "code",
   "execution_count": 17,
   "metadata": {},
   "outputs": [],
   "source": [
    "from sklearn.svm import SVC"
   ]
  },
  {
   "cell_type": "code",
   "execution_count": 18,
   "metadata": {},
   "outputs": [],
   "source": [
    "svm=SVC()"
   ]
  },
  {
   "cell_type": "code",
   "execution_count": 19,
   "metadata": {},
   "outputs": [
    {
     "name": "stderr",
     "output_type": "stream",
     "text": [
      "/home/o/tmp/ana/lib/python3.6/site-packages/sklearn/svm/base.py:193: FutureWarning: The default value of gamma will change from 'auto' to 'scale' in version 0.22 to account better for unscaled features. Set gamma explicitly to 'auto' or 'scale' to avoid this warning.\n",
      "  \"avoid this warning.\", FutureWarning)\n"
     ]
    },
    {
     "data": {
      "text/plain": [
       "SVC(C=1.0, cache_size=200, class_weight=None, coef0=0.0,\n",
       "    decision_function_shape='ovr', degree=3, gamma='auto_deprecated',\n",
       "    kernel='rbf', max_iter=-1, probability=False, random_state=None,\n",
       "    shrinking=True, tol=0.001, verbose=False)"
      ]
     },
     "execution_count": 19,
     "metadata": {},
     "output_type": "execute_result"
    }
   ],
   "source": [
    "svm.fit(X_train[:10000],y_train[:10000])"
   ]
  },
  {
   "cell_type": "code",
   "execution_count": 20,
   "metadata": {},
   "outputs": [
    {
     "data": {
      "text/plain": [
       "array([0, 0, 0, ..., 0, 1, 0])"
      ]
     },
     "execution_count": 20,
     "metadata": {},
     "output_type": "execute_result"
    }
   ],
   "source": [
    "pred=svm.predict(X_test[:2000])\n",
    "pred"
   ]
  },
  {
   "cell_type": "code",
   "execution_count": 21,
   "metadata": {},
   "outputs": [],
   "source": [
    "from sklearn.metrics import confusion_matrix,classification_report"
   ]
  },
  {
   "cell_type": "code",
   "execution_count": 22,
   "metadata": {},
   "outputs": [
    {
     "name": "stdout",
     "output_type": "stream",
     "text": [
      "[[1466   36]\n",
      " [ 402   96]]\n",
      "\n",
      "\n",
      "              precision    recall  f1-score   support\n",
      "\n",
      "           0       0.78      0.98      0.87      1502\n",
      "           1       0.73      0.19      0.30       498\n",
      "\n",
      "    accuracy                           0.78      2000\n",
      "   macro avg       0.76      0.58      0.59      2000\n",
      "weighted avg       0.77      0.78      0.73      2000\n",
      "\n"
     ]
    }
   ],
   "source": [
    "print(confusion_matrix(y_test[:2000],pred))\n",
    "print('\\n')\n",
    "print(classification_report(y_test[:2000],pred))"
   ]
  },
  {
   "cell_type": "code",
   "execution_count": 23,
   "metadata": {},
   "outputs": [],
   "source": [
    "c=confusion_matrix(y_test[:2000],pred)"
   ]
  },
  {
   "cell_type": "code",
   "execution_count": 24,
   "metadata": {},
   "outputs": [
    {
     "data": {
      "text/plain": [
       "0.781"
      ]
     },
     "execution_count": 24,
     "metadata": {},
     "output_type": "execute_result"
    }
   ],
   "source": [
    "(c[0][0]+c[1][1])/(c[0][0]+c[1][1]+c[0][1]+c[1][0])"
   ]
  },
  {
   "cell_type": "markdown",
   "metadata": {},
   "source": [
    "## Hypertuning"
   ]
  },
  {
   "cell_type": "code",
   "execution_count": 25,
   "metadata": {},
   "outputs": [],
   "source": [
    "xtr=X_train.iloc[2000:4000]\n",
    "ytr=y_train.iloc[2000:4000]\n",
    "xte=X_test.iloc[5000:6000]\n",
    "yte=y_test.iloc[5000:6000]"
   ]
  },
  {
   "cell_type": "code",
   "execution_count": 26,
   "metadata": {},
   "outputs": [
    {
     "data": {
      "text/plain": [
       "1000"
      ]
     },
     "execution_count": 26,
     "metadata": {},
     "output_type": "execute_result"
    }
   ],
   "source": [
    "len(xte)\n",
    "#svm.fit(xtr,ytr)"
   ]
  },
  {
   "cell_type": "code",
   "execution_count": 27,
   "metadata": {},
   "outputs": [],
   "source": [
    "svm1=SVC()"
   ]
  },
  {
   "cell_type": "code",
   "execution_count": 28,
   "metadata": {},
   "outputs": [],
   "source": [
    "from sklearn.model_selection import GridSearchCV"
   ]
  },
  {
   "cell_type": "raw",
   "metadata": {},
   "source": [
    "# p={ 'C' : [*np.arange(7,8,0.1)],\"kernel\":['poly'],'degree':[1],\n",
    "#     'gamma' : [*np.arange(0.007,0.008,0.0001)]}"
   ]
  },
  {
   "cell_type": "code",
   "execution_count": 29,
   "metadata": {},
   "outputs": [],
   "source": [
    "p={ 'C' : [0.001,0.05,0.1,0.01,1,5,10,50,100] , 'gamma' : [0.05,0.1,0.01,1,5,10,0.0001,0.000001],\n",
    "   \"kernel\":[ 'rbf','linear'], 'degree':[1,2,3,5,7,10,14,18,24]}"
   ]
  },
  {
   "cell_type": "raw",
   "metadata": {},
   "source": [
    "#best\n",
    "# c=10 ,linear ,gamma=0.01 ,degree=3 default\n",
    "# c=8 ,poly ,gamma=0.008 ,degree=1 default\n",
    "#'C': 7, 'degree': 1, 'gamma': 0.008, 'kernel': 'poly'\n",
    "#'C': 7.5, 'degree': 1, 'gamma': 0.0075, 'kernel': 'poly'\n",
    "#'C': 7.799999999999997, 'degree': 1,'gamma': 0.007300000000000001,'kernel': 'poly'"
   ]
  },
  {
   "cell_type": "code",
   "execution_count": 31,
   "metadata": {},
   "outputs": [],
   "source": [
    "grid=GridSearchCV( svm1, p, verbose=3,n_jobs=3 )"
   ]
  },
  {
   "cell_type": "code",
   "execution_count": 32,
   "metadata": {
    "scrolled": true
   },
   "outputs": [
    {
     "name": "stdout",
     "output_type": "stream",
     "text": [
      "Fitting 3 folds for each of 1296 candidates, totalling 3888 fits\n"
     ]
    },
    {
     "name": "stderr",
     "output_type": "stream",
     "text": [
      "/home/o/tmp/ana/lib/python3.6/site-packages/sklearn/model_selection/_split.py:1978: FutureWarning: The default value of cv will change from 3 to 5 in version 0.22. Specify it explicitly to silence this warning.\n",
      "  warnings.warn(CV_WARNING, FutureWarning)\n",
      "[Parallel(n_jobs=3)]: Using backend LokyBackend with 3 concurrent workers.\n",
      "[Parallel(n_jobs=3)]: Done  26 tasks      | elapsed:    3.4s\n",
      "[Parallel(n_jobs=3)]: Done 122 tasks      | elapsed:   10.8s\n",
      "[Parallel(n_jobs=3)]: Done 282 tasks      | elapsed:   22.9s\n",
      "[Parallel(n_jobs=3)]: Done 506 tasks      | elapsed:   42.2s\n",
      "[Parallel(n_jobs=3)]: Done 794 tasks      | elapsed:  1.2min\n",
      "[Parallel(n_jobs=3)]: Done 1146 tasks      | elapsed:  1.9min\n",
      "[Parallel(n_jobs=3)]: Done 1562 tasks      | elapsed:  2.7min\n",
      "[Parallel(n_jobs=3)]: Done 2042 tasks      | elapsed:  3.8min\n",
      "[Parallel(n_jobs=3)]: Done 2586 tasks      | elapsed:  6.6min\n",
      "[Parallel(n_jobs=3)]: Done 3194 tasks      | elapsed: 16.9min\n",
      "[Parallel(n_jobs=3)]: Done 3866 tasks      | elapsed: 61.8min\n",
      "[Parallel(n_jobs=3)]: Done 3888 out of 3888 | elapsed: 63.5min finished\n"
     ]
    },
    {
     "data": {
      "text/plain": [
       "GridSearchCV(cv='warn', error_score='raise-deprecating',\n",
       "             estimator=SVC(C=1.0, cache_size=200, class_weight=None, coef0=0.0,\n",
       "                           decision_function_shape='ovr', degree=3,\n",
       "                           gamma='auto_deprecated', kernel='rbf', max_iter=-1,\n",
       "                           probability=False, random_state=None, shrinking=True,\n",
       "                           tol=0.001, verbose=False),\n",
       "             iid='warn', n_jobs=3,\n",
       "             param_grid={'C': [0.001, 0.05, 0.1, 0.01, 1, 5, 10, 50, 100],\n",
       "                         'degree': [1, 2, 3, 5, 7, 10, 14, 18, 24],\n",
       "                         'gamma': [0.05, 0.1, 0.01, 1, 5, 10, 0.0001, 1e-06],\n",
       "                         'kernel': ['rbf', 'linear']},\n",
       "             pre_dispatch='2*n_jobs', refit=True, return_train_score=False,\n",
       "             scoring=None, verbose=3)"
      ]
     },
     "execution_count": 32,
     "metadata": {},
     "output_type": "execute_result"
    }
   ],
   "source": [
    "grid.fit(xtr,ytr)"
   ]
  },
  {
   "cell_type": "code",
   "execution_count": 33,
   "metadata": {},
   "outputs": [
    {
     "data": {
      "text/plain": [
       "SVC(C=50, cache_size=200, class_weight=None, coef0=0.0,\n",
       "    decision_function_shape='ovr', degree=1, gamma=0.05, kernel='linear',\n",
       "    max_iter=-1, probability=False, random_state=None, shrinking=True,\n",
       "    tol=0.001, verbose=False)"
      ]
     },
     "execution_count": 33,
     "metadata": {},
     "output_type": "execute_result"
    }
   ],
   "source": [
    "grid.best_estimator_"
   ]
  },
  {
   "cell_type": "code",
   "execution_count": 34,
   "metadata": {},
   "outputs": [
    {
     "data": {
      "text/plain": [
       "1009"
      ]
     },
     "execution_count": 34,
     "metadata": {},
     "output_type": "execute_result"
    }
   ],
   "source": [
    "grid.best_index_"
   ]
  },
  {
   "cell_type": "code",
   "execution_count": 35,
   "metadata": {},
   "outputs": [
    {
     "data": {
      "text/plain": [
       "{'C': 50, 'degree': 1, 'gamma': 0.05, 'kernel': 'linear'}"
      ]
     },
     "execution_count": 35,
     "metadata": {},
     "output_type": "execute_result"
    }
   ],
   "source": [
    "grid.best_params_"
   ]
  },
  {
   "cell_type": "markdown",
   "metadata": {},
   "source": [
    "## Tuned SVM"
   ]
  },
  {
   "cell_type": "code",
   "execution_count": 38,
   "metadata": {},
   "outputs": [],
   "source": [
    "svm=SVC(C=50,gamma=0.05,kernel=\"linear\",degree=1)"
   ]
  },
  {
   "cell_type": "code",
   "execution_count": 39,
   "metadata": {},
   "outputs": [
    {
     "data": {
      "text/plain": [
       "SVC(C=50, cache_size=200, class_weight=None, coef0=0.0,\n",
       "    decision_function_shape='ovr', degree=1, gamma=0.05, kernel='linear',\n",
       "    max_iter=-1, probability=False, random_state=None, shrinking=True,\n",
       "    tol=0.001, verbose=False)"
      ]
     },
     "execution_count": 39,
     "metadata": {},
     "output_type": "execute_result"
    }
   ],
   "source": [
    "svm.fit(X_train[:15000],y_train[:15000])"
   ]
  },
  {
   "cell_type": "code",
   "execution_count": 40,
   "metadata": {},
   "outputs": [
    {
     "data": {
      "text/plain": [
       "array([0, 0, 0, ..., 0, 0, 0])"
      ]
     },
     "execution_count": 40,
     "metadata": {},
     "output_type": "execute_result"
    }
   ],
   "source": [
    "pred=svm.predict(X_test[:5000])\n",
    "pred"
   ]
  },
  {
   "cell_type": "code",
   "execution_count": 41,
   "metadata": {},
   "outputs": [],
   "source": [
    "from sklearn.metrics import confusion_matrix,classification_report"
   ]
  },
  {
   "cell_type": "code",
   "execution_count": 42,
   "metadata": {},
   "outputs": [
    {
     "name": "stdout",
     "output_type": "stream",
     "text": [
      "[[3616  165]\n",
      " [ 796  423]]\n",
      "\n",
      "\n",
      "              precision    recall  f1-score   support\n",
      "\n",
      "           0       0.82      0.96      0.88      3781\n",
      "           1       0.72      0.35      0.47      1219\n",
      "\n",
      "    accuracy                           0.81      5000\n",
      "   macro avg       0.77      0.65      0.68      5000\n",
      "weighted avg       0.80      0.81      0.78      5000\n",
      "\n"
     ]
    }
   ],
   "source": [
    "print(confusion_matrix(y_test[:5000],pred))\n",
    "print('\\n')\n",
    "print(classification_report(y_test[:5000],pred))"
   ]
  },
  {
   "cell_type": "code",
   "execution_count": 43,
   "metadata": {},
   "outputs": [],
   "source": [
    "c=confusion_matrix(y_test[:5000],pred)"
   ]
  },
  {
   "cell_type": "code",
   "execution_count": 44,
   "metadata": {},
   "outputs": [
    {
     "data": {
      "text/plain": [
       "0.8078"
      ]
     },
     "execution_count": 44,
     "metadata": {},
     "output_type": "execute_result"
    }
   ],
   "source": [
    "(c[0][0]+c[1][1])/(c[0][0]+c[1][1]+c[0][1]+c[1][0])"
   ]
  }
 ],
 "metadata": {
  "kernelspec": {
   "display_name": "Python 3",
   "language": "python",
   "name": "python3"
  },
  "language_info": {
   "codemirror_mode": {
    "name": "ipython",
    "version": 3
   },
   "file_extension": ".py",
   "mimetype": "text/x-python",
   "name": "python",
   "nbconvert_exporter": "python",
   "pygments_lexer": "ipython3",
   "version": "3.6.9"
  }
 },
 "nbformat": 4,
 "nbformat_minor": 2
}
